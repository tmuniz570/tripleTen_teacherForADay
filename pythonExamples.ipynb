{
 "cells": [
  {
   "cell_type": "markdown",
   "id": "b1d680e6",
   "metadata": {},
   "source": [
    "#### Tipagem"
   ]
  },
  {
   "cell_type": "code",
   "execution_count": 1,
   "id": "b22cd05f",
   "metadata": {},
   "outputs": [
    {
     "ename": "TypeError",
     "evalue": "unsupported operand type(s) for +: 'int' and 'str'",
     "output_type": "error",
     "traceback": [
      "\u001b[1;31m---------------------------------------------------------------------------\u001b[0m",
      "\u001b[1;31mTypeError\u001b[0m                                 Traceback (most recent call last)",
      "Cell \u001b[1;32mIn[1], line 3\u001b[0m\n\u001b[0;32m      1\u001b[0m a \u001b[38;5;241m=\u001b[39m \u001b[38;5;241m10\u001b[39m\n\u001b[0;32m      2\u001b[0m b \u001b[38;5;241m=\u001b[39m \u001b[38;5;124m\"\u001b[39m\u001b[38;5;124mOlá\u001b[39m\u001b[38;5;124m\"\u001b[39m\n\u001b[1;32m----> 3\u001b[0m \u001b[38;5;28mprint\u001b[39m(a \u001b[38;5;241m+\u001b[39m b)\n",
      "\u001b[1;31mTypeError\u001b[0m: unsupported operand type(s) for +: 'int' and 'str'"
     ]
    }
   ],
   "source": [
    "a = 10\n",
    "b = \"Olá\"\n",
    "print(a + b)  # Isso resultará num erro em Python"
   ]
  },
  {
   "cell_type": "markdown",
   "id": "88cb8a1b",
   "metadata": {},
   "source": [
    "#### Variáveis e Tipos"
   ]
  },
  {
   "cell_type": "code",
   "execution_count": null,
   "id": "c7cc76db",
   "metadata": {},
   "outputs": [
    {
     "name": "stdout",
     "output_type": "stream",
     "text": [
      "30\n",
      "<class 'int'>\n",
      "Alice\n",
      "<class 'str'>\n",
      "True\n",
      "<class 'bool'>\n"
     ]
    }
   ],
   "source": [
    "# Variável para armazenar um número inteiro\n",
    "idade = 30\n",
    "print(idade)  # Saída: 30\n",
    "print(type(idade)) # Saída: <class 'int'>\n",
    "\n",
    "# Variável para armazenar um texto (string)\n",
    "nome = \"Alice\"\n",
    "print(nome)   # Saída: Alice\n",
    "print(type(nome))  # Saída: <class 'str'>\n",
    "\n",
    "# Variável para armazenar um valor booleano (verdadeiro/falso)\n",
    "tem_permissao = True\n",
    "print(tem_permissao) # Saída: True\n",
    "print(type(tem_permissao)) # Saída: <class 'bool'>"
   ]
  },
  {
   "cell_type": "markdown",
   "id": "1a9c01f2",
   "metadata": {},
   "source": [
    "#### Operações lógicas e aritméticas"
   ]
  },
  {
   "cell_type": "code",
   "execution_count": 19,
   "id": "e0c3cce0",
   "metadata": {},
   "outputs": [
    {
     "name": "stdout",
     "output_type": "stream",
     "text": [
      "--- Operadores Aritméticos em Python ---\n",
      "Soma: 40.5\n",
      "Subtração: 30.5\n",
      "Multiplicação: 177.5\n",
      "Divisão: 7.1\n",
      "Resto da Divisão: 0.5\n",
      "Potência: 56382167.21875\n",
      "\n",
      "--- Operadores de Atribuição em Python ---\n",
      "Valor inicial de x: 5\n",
      "x += 3: 8\n",
      "x -= 2: 6\n",
      "x *= 4: 24\n",
      "\n",
      "--- Operadores de Comparação em Python ---\n",
      "7 == 10: False\n",
      "7 != 10: True\n",
      "7 > 10: False\n",
      "7 < 10: True\n",
      "7 >= 10: False\n",
      "7 <= 10: True\n",
      "\n",
      "--- Operadores Lógicos em Python ---\n",
      "idade > 18 e tem_permissao: True\n",
      "idade > 18 ou tem_carteira: True\n",
      "não tem_permissao: False\n",
      "\n",
      "--- Condições Lógicas em Python ---\n",
      "Aprovado!\n",
      "Acesso administrativo negado.\n"
     ]
    }
   ],
   "source": [
    "# Operadores Aritméticos\n",
    "print(\"--- Operadores Aritméticos em Python ---\")\n",
    "numero1 = 10 + 20 + 5.5\n",
    "numero2 = 5\n",
    "\n",
    "print(f\"Soma: {numero1 + numero2}\")\n",
    "print(f\"Subtração: {numero1 - numero2}\")\n",
    "print(f\"Multiplicação: {numero1 * numero2}\")\n",
    "print(f\"Divisão: {numero1 / numero2}\")\n",
    "print(f\"Resto da Divisão: {numero1 % numero2}\")\n",
    "print(f\"Potência: {numero1 ** numero2}\")\n",
    "\n",
    "# Operadores de Atribuição\n",
    "print(\"\\n--- Operadores de Atribuição em Python ---\")\n",
    "x = 5\n",
    "\n",
    "print(f\"Valor inicial de x: {x}\")\n",
    "\n",
    "x += 3  # Equivalente a x = x + 3\n",
    "print(f\"x += 3: {x}\")\n",
    "\n",
    "x -= 2  # Equivalente a x = x - 2\n",
    "print(f\"x -= 2: {x}\")\n",
    "\n",
    "x *= 4  # Equivalente a x = x * 4\n",
    "print(f\"x *= 4: {x}\")\n",
    "\n",
    "# Operadores de Comparação\n",
    "print(\"\\n--- Operadores de Comparação em Python ---\")\n",
    "a = 7\n",
    "b = 10\n",
    "\n",
    "print(f\"{a} == {b}: {a == b}\")\n",
    "print(f\"{a} != {b}: {a != b}\")\n",
    "print(f\"{a} > {b}: {a > b}\")\n",
    "print(f\"{a} < {b}: {a < b}\")\n",
    "print(f\"{a} >= {b}: {a >= b}\")\n",
    "print(f\"{a} <= {b}: {a <= b}\")\n",
    "\n",
    "# Operadores Lógicos\n",
    "print(\"\\n--- Operadores Lógicos em Python ---\")\n",
    "idade = 20\n",
    "tem_permissao = True\n",
    "\n",
    "resultado_and = idade > 18 and tem_permissao\n",
    "print(f\"idade > 18 e tem_permissao: {resultado_and}\")\n",
    "\n",
    "tem_carteira = False\n",
    "pode_dirigir = idade > 18 or tem_carteira\n",
    "print(f\"idade > 18 ou tem_carteira: {pode_dirigir}\")\n",
    "\n",
    "nao_tem_permissao = not tem_permissao\n",
    "print(f\"não tem_permissao: {nao_tem_permissao}\")\n",
    "\n",
    "# Condições Lógicas (if, elif, else)\n",
    "print(\"\\n--- Condições Lógicas em Python ---\")\n",
    "nota = 75\n",
    "\n",
    "if nota >= 70:\n",
    "    print(\"Aprovado!\")\n",
    "elif nota >= 50:\n",
    "    print(\"Recuperação.\")\n",
    "else:\n",
    "    print(\"Reprovado.\")\n",
    "\n",
    "nivel = \"admin\"\n",
    "if nivel == \"admin\" and idade > 25:\n",
    "    print(\"Acesso administrativo concedido.\")\n",
    "else:\n",
    "    print(\"Acesso administrativo negado.\")"
   ]
  },
  {
   "cell_type": "markdown",
   "id": "c1e5eb96",
   "metadata": {},
   "source": [
    "#### Estruturas de Repetição"
   ]
  },
  {
   "cell_type": "code",
   "execution_count": 20,
   "id": "5abd7ee8",
   "metadata": {},
   "outputs": [
    {
     "name": "stdout",
     "output_type": "stream",
     "text": [
      "--- Estrutura de Repetição for em Python ---\n",
      "Eu gosto de maçã\n",
      "Eu gosto de banana\n",
      "Eu gosto de laranja\n",
      "\n",
      "--- Estrutura de Repetição for com range em Python ---\n",
      "Iteração número: 0\n",
      "Iteração número: 1\n",
      "Iteração número: 2\n",
      "Iteração número: 3\n",
      "Iteração número: 4\n",
      "Número par: 2\n",
      "Número par: 4\n",
      "Número par: 6\n",
      "Número par: 8\n",
      "\n",
      "--- Estrutura de Repetição while em Python ---\n",
      "Contador: 0\n",
      "Contador: 1\n",
      "Contador: 2\n",
      "Contador: 3\n",
      "Contador: 4\n",
      "\n",
      "--- Simulando range com while em Python ---\n",
      "Número: 5\n",
      "Número: 6\n",
      "Número: 7\n",
      "Número: 8\n",
      "Número: 9\n"
     ]
    }
   ],
   "source": [
    "print(\"--- Estrutura de Repetição for em Python ---\")\n",
    "# Iterando sobre uma lista\n",
    "frutas = [\"maçã\", \"banana\", \"laranja\"]\n",
    "for fruta in frutas:\n",
    "    print(f\"Eu gosto de {fruta}\")\n",
    "\n",
    "# Iterando com range (sequência numérica)\n",
    "print(\"\\n--- Estrutura de Repetição for com range em Python ---\")\n",
    "for i in range(5):  # Gera números de 0 a 4\n",
    "    print(f\"Iteração número: {i}\")\n",
    "\n",
    "for numero in range(2, 10, 2):  # Gera números de 2 a 9, com passo de 2\n",
    "    print(f\"Número par: {numero}\")\n",
    "\n",
    "print(\"\\n--- Estrutura de Repetição while em Python ---\")\n",
    "contador = 0\n",
    "while contador < 5:\n",
    "    print(f\"Contador: {contador}\")\n",
    "    contador += 1\n",
    "\n",
    "# Simulando um \"range\" com while\n",
    "print(\"\\n--- Simulando range com while em Python ---\")\n",
    "inicio = 5\n",
    "fim = 10\n",
    "while inicio < fim:\n",
    "    print(f\"Número: {inicio}\")\n",
    "    inicio += 1"
   ]
  },
  {
   "cell_type": "markdown",
   "id": "c87357bd",
   "metadata": {},
   "source": [
    "#### Estruturas de Dados"
   ]
  },
  {
   "cell_type": "code",
   "execution_count": null,
   "id": "228726ce",
   "metadata": {},
   "outputs": [],
   "source": [
    "print(\"--- Listas em Python ---\")\n",
    "# Criando uma lista\n",
    "frutas = [\"maçã\", \"banana\", \"laranja\"]\n",
    "print(f\"Lista de frutas: {frutas}\")\n",
    "\n",
    "# Acessando elementos (indexação)\n",
    "print(f\"Primeira fruta: {frutas[0]}\")\n",
    "print(f\"Última fruta: {frutas[-1]}\")\n",
    "\n",
    "# Modificando elementos\n",
    "frutas[1] = \"morango\"\n",
    "print(f\"Lista modificada: {frutas}\")\n",
    "\n",
    "# Adicionando elementos\n",
    "frutas.append(\"kiwi\")\n",
    "print(f\"Lista com kiwi: {frutas}\")\n",
    "\n",
    "print(\"\\n--- Tuplas em Python ---\")\n",
    "# Criando uma tupla\n",
    "cores = (\"vermelho\", \"verde\", \"azul\")\n",
    "print(f\"Tupla de cores: {cores}\")\n",
    "\n",
    "# Acessando elementos (indexação)\n",
    "print(f\"Primeira cor: {cores[0]}\")\n",
    "\n",
    "# Tuplas são imutáveis (tentar modificar gera erro)\n",
    "# cores[0] = \"amarelo\"  # Isso causaria um TypeError\n",
    "\n",
    "print(\"\\n--- Dicionários em Python ---\")\n",
    "# Criando um dicionário\n",
    "pessoa = {\"nome\": \"Carlos\", \"idade\": 32, \"cidade\": \"Liverpool\"}\n",
    "print(f\"Dicionário pessoa: {pessoa}\")\n",
    "\n",
    "# Acessando valores por chave\n",
    "print(f\"Nome: {pessoa['nome']}\")\n",
    "print(f\"Idade: {pessoa.get('idade')}\")  # Método mais seguro para evitar KeyError\n",
    "\n",
    "# Modificando valores\n",
    "pessoa[\"idade\"] = 33\n",
    "print(f\"Idade atualizada: {pessoa}\")\n",
    "\n",
    "# Adicionando um novo par chave-valor\n",
    "pessoa[\"profissão\"] = \"Engenheiro\"\n",
    "print(f\"Dicionário com profissão: {pessoa}\")\n",
    "\n",
    "print(\"\\n--- Conjuntos em Python ---\")\n",
    "# Criando um conjunto\n",
    "numeros = {1, 2, 2, 3, 4, 4, 5}  # Duplicatas são removidas\n",
    "print(f\"Conjunto de números: {numeros}\")\n",
    "\n",
    "# Adicionando um elemento\n",
    "numeros.add(6)\n",
    "print(f\"Conjunto com 6: {numeros}\")\n",
    "\n",
    "# Verificando a presença de um elemento\n",
    "print(f\"O número 3 está no conjunto? {3 in numeros}\")"
   ]
  },
  {
   "cell_type": "markdown",
   "id": "865b2029",
   "metadata": {},
   "source": [
    "#### 1 - Fluxograma - Idade para CNH"
   ]
  },
  {
   "cell_type": "code",
   "execution_count": 24,
   "id": "5d0acd4f",
   "metadata": {},
   "outputs": [
    {
     "name": "stdout",
     "output_type": "stream",
     "text": [
      "Você pode tirar a CNH.\n"
     ]
    }
   ],
   "source": [
    "def verificar_cnh_idade():\n",
    "    try:\n",
    "        idade_str = input(\"Digite sua idade: \")\n",
    "        idade = int(idade_str)\n",
    "        if idade >= 18:\n",
    "            print(\"Você pode tirar a CNH.\")\n",
    "        else:\n",
    "            print(\"Você NÃO pode tirar a CNH.\")\n",
    "    except ValueError:\n",
    "        print(\"Por favor, digite uma idade válida.\")\n",
    "\n",
    "verificar_cnh_idade()"
   ]
  },
  {
   "cell_type": "markdown",
   "id": "73fdc535",
   "metadata": {},
   "source": [
    "#### 2 - Fluxograma - Conta de Celular"
   ]
  },
  {
   "cell_type": "code",
   "execution_count": null,
   "id": "28b85e2a",
   "metadata": {},
   "outputs": [],
   "source": [
    "def calcular_conta_telefonica():\n",
    "    try:\n",
    "        minutos_utilizados_str = input(\"Digite a quantidade de minutos utilizados: \")\n",
    "        minutos_utilizados = int(minutos_utilizados_str)\n",
    "\n",
    "        if minutos_utilizados <= 200:\n",
    "            valor_da_conta = minutos_utilizados * 0.20\n",
    "        elif 200 < minutos_utilizados <= 400:\n",
    "            valor_da_conta = minutos_utilizados * 0.18\n",
    "        else:\n",
    "            valor_da_conta = minutos_utilizados * 0.15\n",
    "\n",
    "        print(f\"O valor da sua conta telefônica é: R$ {valor_da_conta:.2f}\")\n",
    "\n",
    "    except ValueError:\n",
    "        print(\"Por favor, digite um número inteiro válido para os minutos utilizados.\")\n",
    "\n",
    "calcular_conta_telefonica()"
   ]
  },
  {
   "cell_type": "markdown",
   "id": "92993229",
   "metadata": {},
   "source": [
    "#### 3 - Fluxograma - Hello World"
   ]
  },
  {
   "cell_type": "code",
   "execution_count": 28,
   "id": "824754ef",
   "metadata": {},
   "outputs": [
    {
     "name": "stdout",
     "output_type": "stream",
     "text": [
      "Sem loop:\n",
      "Hello World\n",
      "Hello World\n",
      "Hello World\n",
      "Fim\n",
      "\n",
      "\n",
      "Com loop:\n",
      "Hello World\n",
      "Hello World\n",
      "Hello World\n",
      "Fim\n"
     ]
    }
   ],
   "source": [
    "# Imprimir \"Hello World\" 3 vezes\n",
    "print(\"Sem loop:\")\n",
    "print(\"Hello World\")\n",
    "print(\"Hello World\")\n",
    "print(\"Hello World\")\n",
    "print(\"Fim\")\n",
    "\n",
    "print(\"\\n\\nCom loop:\")\n",
    "contador = 1\n",
    "while contador <= 3:\n",
    "    print(\"Hello World\")\n",
    "    contador += 1\n",
    "\n",
    "print(\"Fim\")"
   ]
  },
  {
   "cell_type": "markdown",
   "id": "d78b070c",
   "metadata": {},
   "source": [
    "#### Mochila"
   ]
  },
  {
   "cell_type": "code",
   "execution_count": 33,
   "id": "a0225f20",
   "metadata": {},
   "outputs": [
    {
     "name": "stdout",
     "output_type": "stream",
     "text": [
      "['lápis', 'caderno', 'caneta']\n",
      "['lápis', 'caneta']\n",
      "caneta\n",
      "['lápis', 'caneta']\n",
      "['lápis']\n",
      "['lápis', 'caderno', 'caneta', 'borracha']\n",
      "borracha\n",
      "['lápis', 'caderno', 'caneta']\n",
      "caderno\n",
      "['lápis', 'caneta']\n"
     ]
    }
   ],
   "source": [
    "# Criando a lista chamada MOCHILA\n",
    "MOCHILA = [\"lápis\", \"caderno\", \"caneta\"]\n",
    "\n",
    "print(MOCHILA)\n",
    "del MOCHILA[1]  # Remove o item no índice 1 (\"caderno\")\n",
    "print(MOCHILA)\n",
    "\n",
    "# Imprimindo o item no \"bolso\" de índice 0\n",
    "print(MOCHILA[1])  # Saída: lápis\n",
    "\n",
    "print(MOCHILA)\n",
    "MOCHILA.remove(\"caneta\")  # Remove o item \"caneta\"\n",
    "print(MOCHILA)\n",
    "\n",
    "MOCHILA2 = [\"lápis\", \"caderno\", \"caneta\", \"borracha\"]\n",
    "print(MOCHILA2)\n",
    "ultomoElemento = MOCHILA2.pop() # Remove e retorna o ultimo elemento da lista\n",
    "print(ultomoElemento)\n",
    "print(MOCHILA2)\n",
    "\n",
    "elementoEscolhido = MOCHILA2.pop(1) # Remove e retorna o elemento escolhido da lista\n",
    "print(elementoEscolhido)\n",
    "print(MOCHILA2)"
   ]
  },
  {
   "cell_type": "markdown",
   "id": "c7aef6a5",
   "metadata": {},
   "source": [
    "#### 4 - Fluxograma - Nomes dos Alunos"
   ]
  },
  {
   "cell_type": "code",
   "execution_count": null,
   "id": "e95674f8",
   "metadata": {},
   "outputs": [],
   "source": [
    "lista_de_nomes = []\n",
    "\n",
    "for contador in range(1, 11):  # Loop de 1 até 10 (inclusive)\n",
    "    nome_aluno = input(f\"Leia o nome do Aluno (vez {contador}): \")\n",
    "    lista_de_nomes.append(nome_aluno)\n",
    "\n",
    "print(\"\\nLista de nomes lidos:\")\n",
    "print(lista_de_nomes)\n",
    "\n",
    "print(\"\\nFim\")"
   ]
  },
  {
   "cell_type": "code",
   "execution_count": null,
   "id": "7e75fb1c",
   "metadata": {},
   "outputs": [
    {
     "name": "stdout",
     "output_type": "stream",
     "text": [
      "1972\n",
      "Drama/Suspense\n",
      "\n",
      "1. Filme adicionado:\n",
      "{'ano': 2019, 'genero': 'Ação/Ficção Científica', 'duracao': 181}\n",
      "\n",
      "2. Títulos dos filmes:\n",
      "['O Poderoso Chefão', 'Um Sonho de Liberdade', 'Forrest Gump', 'Pulp Fiction', 'O Senhor dos Anéis: O Retorno do Rei', 'A Lista de Schindler', 'Clube da Luta', 'Interestelar', 'Cidade de Deus', 'Parasita', 'Vingadores: Ultimato']\n",
      "\n",
      "3. Detalhes dos filmes:\n",
      "{'ano': 1972, 'genero': 'Drama/Crime', 'duracao': 175}\n",
      "{'ano': 1994, 'genero': 'Drama', 'duracao': 142}\n",
      "{'ano': 1994, 'genero': 'Drama/Comédia', 'duracao': 142}\n",
      "{'ano': 1994, 'genero': 'Crime/Drama', 'duracao': 154}\n",
      "{'ano': 2003, 'genero': 'Fantasia/Aventura', 'duracao': 201}\n",
      "{'ano': 1993, 'genero': 'Drama/Histórico', 'duracao': 195}\n",
      "{'ano': 1999, 'genero': 'Drama', 'duracao': 139}\n",
      "{'ano': 2014, 'genero': 'Ficção Científica/Drama', 'duracao': 169}\n",
      "{'ano': 2002, 'genero': 'Crime/Drama', 'duracao': 130}\n",
      "{'ano': 2019, 'genero': 'Drama/Suspense', 'duracao': 132}\n",
      "{'ano': 2019, 'genero': 'Ação/Ficção Científica', 'duracao': 181}\n",
      "\n",
      "4. Pares título-detalhes:\n",
      "O Poderoso Chefão: {'ano': 1972, 'genero': 'Drama/Crime', 'duracao': 175}\n",
      "Um Sonho de Liberdade: {'ano': 1994, 'genero': 'Drama', 'duracao': 142}\n",
      "Forrest Gump: {'ano': 1994, 'genero': 'Drama/Comédia', 'duracao': 142}\n",
      "Pulp Fiction: {'ano': 1994, 'genero': 'Crime/Drama', 'duracao': 154}\n",
      "O Senhor dos Anéis: O Retorno do Rei: {'ano': 2003, 'genero': 'Fantasia/Aventura', 'duracao': 201}\n",
      "A Lista de Schindler: {'ano': 1993, 'genero': 'Drama/Histórico', 'duracao': 195}\n",
      "Clube da Luta: {'ano': 1999, 'genero': 'Drama', 'duracao': 139}\n",
      "Interestelar: {'ano': 2014, 'genero': 'Ficção Científica/Drama', 'duracao': 169}\n",
      "Cidade de Deus: {'ano': 2002, 'genero': 'Crime/Drama', 'duracao': 130}\n",
      "Parasita: {'ano': 2019, 'genero': 'Drama/Suspense', 'duracao': 132}\n",
      "Vingadores: Ultimato: {'ano': 2019, 'genero': 'Ação/Ficção Científica', 'duracao': 181}\n",
      "\n",
      "5. 'Pulp Fiction' está na lista.\n",
      "\n",
      "5. 'Titanic' não está na lista.\n",
      "\n",
      "6. Ano de lançamento de 'Interestelar': 2014\n",
      "\n",
      "7. Duração de 'O Poderoso Chefão' modificada para: 178 minutos.\n",
      "\n",
      "8. 'Clube da Luta' removido.\n",
      "\n",
      "4. Pares título-detalhes:\n",
      "O Poderoso Chefão: {'ano': 1972, 'genero': 'Drama/Crime', 'duracao': 178}\n",
      "Um Sonho de Liberdade: {'ano': 1994, 'genero': 'Drama', 'duracao': 142}\n",
      "Forrest Gump: {'ano': 1994, 'genero': 'Drama/Comédia', 'duracao': 142}\n",
      "Pulp Fiction: {'ano': 1994, 'genero': 'Crime/Drama', 'duracao': 154}\n",
      "O Senhor dos Anéis: O Retorno do Rei: {'ano': 2003, 'genero': 'Fantasia/Aventura', 'duracao': 201}\n",
      "A Lista de Schindler: {'ano': 1993, 'genero': 'Drama/Histórico', 'duracao': 195}\n",
      "Clube da Luta: {'ano': 1999, 'duracao': 139}\n",
      "Interestelar: {'ano': 2014, 'genero': 'Ficção Científica/Drama', 'duracao': 169}\n",
      "Cidade de Deus: {'ano': 2002, 'genero': 'Crime/Drama', 'duracao': 130}\n",
      "Parasita: {'ano': 2019, 'genero': 'Drama/Suspense', 'duracao': 132}\n",
      "Vingadores: Ultimato: {'ano': 2019, 'genero': 'Ação/Ficção Científica', 'duracao': 181}\n"
     ]
    }
   ],
   "source": [
    "filmes_python = {\n",
    "    \"O Poderoso Chefão\": {\"ano\": 1972, \"genero\": \"Drama/Crime\", \"duracao\": 175},\n",
    "    \"Um Sonho de Liberdade\": {\"ano\": 1994, \"genero\": \"Drama\", \"duracao\": 142},\n",
    "    \"Forrest Gump\": {\"ano\": 1994, \"genero\": \"Drama/Comédia\", \"duracao\": 142},\n",
    "    \"Pulp Fiction\": {\"ano\": 1994, \"genero\": \"Crime/Drama\", \"duracao\": 154},\n",
    "    \"O Senhor dos Anéis: O Retorno do Rei\": {\"ano\": 2003, \"genero\": \"Fantasia/Aventura\", \"duracao\": 201},\n",
    "    \"A Lista de Schindler\": {\"ano\": 1993, \"genero\": \"Drama/Histórico\", \"duracao\": 195},\n",
    "    \"Clube da Luta\": {\"ano\": 1999, \"genero\": \"Drama\", \"duracao\": 139},\n",
    "    \"Interestelar\": {\"ano\": 2014, \"genero\": \"Ficção Científica/Drama\", \"duracao\": 169},\n",
    "    \"Cidade de Deus\": {\"ano\": 2002, \"genero\": \"Crime/Drama\", \"duracao\": 130},\n",
    "    \"Parasita\": {\"ano\": 2019, \"genero\": \"Drama/Suspense\", \"duracao\": 132}\n",
    "}\n",
    "\n",
    "# Para acessar informações de um filme específico:\n",
    "print(filmes_python[\"O Poderoso Chefão\"][\"ano\"])  # Saída: 1972\n",
    "print(filmes_python[\"Parasita\"][\"genero\"])      # Saída: Drama/Suspense\n",
    "\n",
    "# 1. Adicionar um novo filme\n",
    "filmes_python[\"Vingadores: Ultimato\"] = {\"ano\": 2019, \"genero\": \"Ação/Ficção Científica\", \"duracao\": 181}\n",
    "print(\"\\n1. Filme adicionado:\")\n",
    "print(filmes_python[\"Vingadores: Ultimato\"])\n",
    "\n",
    "# 2. Acessar todos os títulos dos filmes (chaves)\n",
    "titulos_python = filmes_python.keys()\n",
    "print(\"\\n2. Títulos dos filmes:\")\n",
    "print(list(titulos_python))  # Convertendo para lista para melhor visualização\n",
    "\n",
    "# 3. Acessar todos os detalhes dos filmes (valores)\n",
    "detalhes_python = filmes_python.values()\n",
    "print(\"\\n3. Detalhes dos filmes:\")\n",
    "for filme in detalhes_python:\n",
    "    print(filme)\n",
    "\n",
    "# 4. Acessar todos os pares chave-valor (título e detalhes)\n",
    "itens_python = filmes_python.items()\n",
    "print(\"\\n4. Pares título-detalhes:\")\n",
    "for titulo, detalhes in itens_python:\n",
    "    print(f\"{titulo}: {detalhes}\")\n",
    "\n",
    "# 5. Verificar se um filme existe (pela chave)\n",
    "if \"Pulp Fiction\" in filmes_python:\n",
    "    print(\"\\n5. 'Pulp Fiction' está na lista.\")\n",
    "\n",
    "if \"Titanic\" not in filmes_python:\n",
    "    print(\"\\n5. 'Titanic' não está na lista.\")\n",
    "\n",
    "# 6. Obter o ano de lançamento de um filme específico (com tratamento de erro)\n",
    "filme_desejado = \"Interestelar\"\n",
    "ano_lancamento = filmes_python.get(filme_desejado, {}).get(\"ano\", \"Filme não encontrado ou ano indisponível.\")\n",
    "print(f\"\\n6. Ano de lançamento de '{filme_desejado}': {ano_lancamento}\")\n",
    "\n",
    "# 7. Modificar a duração de um filme\n",
    "filme_para_modificar = \"O Poderoso Chefão\"\n",
    "filmes_python[filme_para_modificar][\"duracao\"] = 178\n",
    "print(f\"\\n7. Duração de '{filme_para_modificar}' modificada para: {filmes_python[filme_para_modificar]['duracao']} minutos.\")\n",
    "\n",
    "# 8. Remover um filme\n",
    "filme_para_remover = \"Clube da Luta\"\n",
    "if filme_para_remover in filmes_python:\n",
    "    del filmes_python[filme_para_remover]\n",
    "    print(f\"\\n8. '{filme_para_remover}' removido.\")\n",
    "else:\n",
    "    print(f\"\\n8. '{filme_para_remover}' não encontrado para remoção.\")"
   ]
  },
  {
   "cell_type": "code",
   "execution_count": null,
   "id": "a894e3bd",
   "metadata": {},
   "outputs": [],
   "source": [
    "x = 5\n",
    "y = \"a\" if x == 5 else \"b\"\n",
    "print(y)"
   ]
  }
 ],
 "metadata": {
  "kernelspec": {
   "display_name": "base",
   "language": "python",
   "name": "python3"
  },
  "language_info": {
   "codemirror_mode": {
    "name": "ipython",
    "version": 3
   },
   "file_extension": ".py",
   "mimetype": "text/x-python",
   "name": "python",
   "nbconvert_exporter": "python",
   "pygments_lexer": "ipython3",
   "version": "3.12.7"
  }
 },
 "nbformat": 4,
 "nbformat_minor": 5
}
